{
 "cells": [
  {
   "cell_type": "code",
   "execution_count": 1,
   "metadata": {},
   "outputs": [],
   "source": [
    "import numpy as np\n",
    "import cv2"
   ]
  },
  {
   "cell_type": "code",
   "execution_count": 37,
   "metadata": {},
   "outputs": [],
   "source": [
    "# check python 'data descriptors'. Necessary for overloading the variable video (int = 0 for webcam and string = video_name)\n",
    "class OpticalFlowComputer:\n",
    "    \n",
    "    # Video captured: video = None\n",
    "    \n",
    "    # Mask image for drawing purposes: mask = None\n",
    "    \n",
    "    # Parameters for corner detection: feature_params = None\n",
    "    \n",
    "    # Parameters for Lucas-Kanade Optical Flow: lk_params = None\n",
    "    \n",
    "    # Create some random colors \n",
    "    color = None\n",
    "    \n",
    "    def __init__(self, video, \n",
    "                 maxCorners = 100, qualityLevel = 0.3, minDistance = 7, blockSize = 7, \n",
    "                 winSize = (15, 15), maxLevel = 2, criteria = (cv2.TERM_CRITERIA_EPS | cv2.TERM_CRITERIA_COUNT, 10, 0.03)):\n",
    "        self.video = video\n",
    "        \n",
    "        self.maxCorners = maxCorners \n",
    "        self.qualityLevel = qualityLevel \n",
    "        self.minDistance = minDistance \n",
    "        self.blockSize = blockSize\n",
    "        self.setFeatureParams()\n",
    "                    \n",
    "        self.winSize = winSize\n",
    "        self.maxLevel = maxLevel \n",
    "        self.criteria = criteria\n",
    "        self.setLK_Params()\n",
    "        \n",
    "        OpticalFlowComputer.color = np.random.randint(0, 255, (100, 3))\n",
    "    \n",
    "    def __del__(self):\n",
    "        self.video.release()\n",
    "        print('Destructor called. VideoCapture released.')\n",
    "    \n",
    "    # Getter Methods\n",
    "    def getVideoCapture(self):\n",
    "        return self.video\n",
    "        \n",
    "    def getMaxCorners(self):\n",
    "        return self.maxCorners\n",
    "    \n",
    "    def getQualityLevel(self):\n",
    "        return self.qualityLevel\n",
    "        \n",
    "    def getMinDistance(self):\n",
    "        return self.minDistance\n",
    "        \n",
    "    def getBlockSize(self):\n",
    "        return self.blockSize\n",
    "        \n",
    "    def getWinSize(self):\n",
    "        return self.winSize\n",
    "        \n",
    "    def getMaxLevel(self):\n",
    "        return self.maxLevel\n",
    "        \n",
    "    def getCriteria(self):\n",
    "        return self.criteria\n",
    "        \n",
    "    # Setter Methods\n",
    "    def setVideoCapture(self, video):\n",
    "        self.video = video\n",
    "        \n",
    "    def setMaxCorners(self, maxCorners = 100):\n",
    "        self.maxCorners = maxCorners\n",
    "        self.setFeatureParams()\n",
    "    \n",
    "    def setQualityLevel(self, qualityLevel = 0.3):\n",
    "        self.qualityLevel = qualityLevel\n",
    "        self.setFeatureParams()\n",
    "        \n",
    "    def setMinDistance(self, minDistance = 7):\n",
    "        self.minDistance = minDistance\n",
    "        self.setFeatureParams()\n",
    "        \n",
    "    def setBlockSize(self, blockSize = 7):\n",
    "        self.blockSize = blockSize\n",
    "        self.setFeatureParams()\n",
    "        \n",
    "    def setWinSize(self, winSize = (15, 15)):\n",
    "        self.winSize = winSize\n",
    "        self.setLK_Params()\n",
    "        \n",
    "    def setMaxLevel(self, maxLevel = 2):\n",
    "        self.maxLevel = maxLevel\n",
    "        self.setLK_Params()\n",
    "        \n",
    "    def setCriteria(self, criteria = (cv2.TERM_CRITERIA_EPS | cv2.TERM_CRITERIA_COUNT, 10, 0.03)):\n",
    "        self.criteria = criteria\n",
    "        self.setLK_Params()\n",
    "        \n",
    "    def setFeatureParams(self):\n",
    "        self.feature_params = dict(maxCorners = self.maxCorners, \n",
    "                                   qualityLevel = self.qualityLevel, \n",
    "                                   minDistance = self.minDistance, \n",
    "                                   blockSize = self.blockSize)\n",
    "        \n",
    "    def setLK_Params(self):\n",
    "        self.lk_params = dict(winSize = self.winSize, \n",
    "                              maxLevel = self.maxLevel, \n",
    "                              criteria = self.criteria)\n",
    "        \n",
    "    # Display Sparse Optical Flow\n",
    "    def displaySparseOpticalFlow(self):\n",
    "        # Take first frame and find corners in it \n",
    "        ret, old_frame = self.video.read() \n",
    "        old_gray = cv2.cvtColor(old_frame, cv2.COLOR_BGR2GRAY) \n",
    "        old_pts = cv2.goodFeaturesToTrack(old_gray, mask = None, **self.feature_params)\n",
    "        \n",
    "        # Create a mask image for drawing purposes \n",
    "        mask = np.zeros_like(old_frame)\n",
    "        \n",
    "        while(1):\n",
    "    \n",
    "            ret, frame = self.video.read()\n",
    "            if ret == 1:\n",
    "                frame_gray = cv2.cvtColor(frame, cv2.COLOR_BGR2GRAY)\n",
    "    \n",
    "                # Calculate optical flow\n",
    "                new_pts, statuses, err = cv2.calcOpticalFlowPyrLK(old_gray, frame_gray, old_pts, None, **self.lk_params)\n",
    "        \n",
    "                # Select good points\n",
    "                good_new = new_pts[statuses == 1]\n",
    "                good_old = old_pts[statuses == 1]\n",
    "\n",
    "                # Draw the tracks\n",
    "                for i, (new, old) in enumerate(zip(good_new, good_old)):\n",
    "        \n",
    "                    new_x, new_y = new.ravel()\n",
    "                    old_x, old_y = old.ravel()\n",
    "                    mask = cv2.line(mask, (new_x, new_y), (old_x, old_y), OpticalFlowComputer.color[i].tolist(), 2)\n",
    "                    frame = cv2.circle(frame, (new_x, new_y), 5, OpticalFlowComputer.color[i].tolist(), -1)\n",
    "        \n",
    "                img = cv2.add(frame, mask)\n",
    "                img = cv2.resize(img, (1280, 720))\n",
    "                cv2.imshow('frame', img)\n",
    "    \n",
    "                k = cv2.waitKey(25)\n",
    "                if k == 27:\n",
    "                    break\n",
    "        \n",
    "                # Update previous frame and points\n",
    "                old_gray = frame_gray.copy()\n",
    "                old_pts = good_new.reshape(-1, 1, 2)\n",
    "    \n",
    "            else:\n",
    "                break\n",
    "                \n",
    "        cv2.destroyAllWindows()"
   ]
  },
  {
   "cell_type": "markdown",
   "metadata": {},
   "source": [
    "<h1>Experiment 1 - Standard Parameters</h1>"
   ]
  },
  {
   "cell_type": "markdown",
   "metadata": {},
   "source": [
    "<h2>Video 1</h2>"
   ]
  },
  {
   "cell_type": "code",
   "execution_count": 38,
   "metadata": {},
   "outputs": [],
   "source": [
    "cap = cv2.VideoCapture('dataset/BigBunnyWakesUp/BigBunnyWakesUp.mp4')\n",
    "myOFComputer = OpticalFlowComputer(cap)"
   ]
  },
  {
   "cell_type": "code",
   "execution_count": 39,
   "metadata": {},
   "outputs": [],
   "source": [
    "myOFComputer.displaySparseOpticalFlow()"
   ]
  },
  {
   "cell_type": "markdown",
   "metadata": {},
   "source": [
    "<h2>Video 2</h2>"
   ]
  },
  {
   "cell_type": "code",
   "execution_count": 5,
   "metadata": {},
   "outputs": [],
   "source": [
    "cap = cv2.VideoCapture('dataset/JumpingKid/JumpingKid.mp4')\n",
    "myOFComputer.setVideoCapture(cap)"
   ]
  },
  {
   "cell_type": "code",
   "execution_count": 6,
   "metadata": {},
   "outputs": [],
   "source": [
    "myOFComputer.displaySparseOpticalFlow()"
   ]
  },
  {
   "cell_type": "markdown",
   "metadata": {},
   "source": [
    "<h2>Video 3</h2>"
   ]
  },
  {
   "cell_type": "code",
   "execution_count": 7,
   "metadata": {},
   "outputs": [],
   "source": [
    "cap = cv2.VideoCapture('dataset/ClassicCar/ClassicCar.mp4')\n",
    "myOFComputer.setVideoCapture(cap)"
   ]
  },
  {
   "cell_type": "code",
   "execution_count": 8,
   "metadata": {},
   "outputs": [],
   "source": [
    "myOFComputer.displaySparseOpticalFlow()"
   ]
  },
  {
   "cell_type": "markdown",
   "metadata": {},
   "source": [
    "<h2>Webcam</h2>"
   ]
  },
  {
   "cell_type": "code",
   "execution_count": 9,
   "metadata": {},
   "outputs": [],
   "source": [
    "cap = cv2.VideoCapture(0)\n",
    "myOFComputer.setVideoCapture(cap)"
   ]
  },
  {
   "cell_type": "code",
   "execution_count": 10,
   "metadata": {},
   "outputs": [],
   "source": [
    "myOFComputer.displaySparseOpticalFlow()"
   ]
  },
  {
   "cell_type": "code",
   "execution_count": 11,
   "metadata": {},
   "outputs": [],
   "source": [
    "cv2.destroyAllWindows()"
   ]
  },
  {
   "cell_type": "markdown",
   "metadata": {},
   "source": [
    "<h1>Experiment 2 - Less Features Selected</h1>"
   ]
  },
  {
   "cell_type": "markdown",
   "metadata": {},
   "source": [
    "<h2>Video 1</h2>"
   ]
  },
  {
   "cell_type": "code",
   "execution_count": 40,
   "metadata": {},
   "outputs": [],
   "source": [
    "cap = cv2.VideoCapture('dataset/BigBunnyWakesUp/BigBunnyWakesUp.mp4')\n",
    "myOFComputer.setVideoCapture(cap)\n",
    "myOFComputer.setMaxCorners(maxCorners = 5)"
   ]
  },
  {
   "cell_type": "code",
   "execution_count": 41,
   "metadata": {},
   "outputs": [
    {
     "data": {
      "text/plain": [
       "5"
      ]
     },
     "execution_count": 41,
     "metadata": {},
     "output_type": "execute_result"
    }
   ],
   "source": [
    "myOFComputer.getMaxCorners()"
   ]
  },
  {
   "cell_type": "code",
   "execution_count": 42,
   "metadata": {},
   "outputs": [],
   "source": [
    "myOFComputer.displaySparseOpticalFlow()"
   ]
  },
  {
   "cell_type": "markdown",
   "metadata": {},
   "source": [
    "<h2>Video 2</h2>"
   ]
  },
  {
   "cell_type": "code",
   "execution_count": 43,
   "metadata": {},
   "outputs": [],
   "source": [
    "cap = cv2.VideoCapture('dataset/JumpingKid/JumpingKid.mp4')\n",
    "myOFComputer.setVideoCapture(cap)"
   ]
  },
  {
   "cell_type": "code",
   "execution_count": 44,
   "metadata": {},
   "outputs": [],
   "source": [
    "myOFComputer.displaySparseOpticalFlow()"
   ]
  },
  {
   "cell_type": "markdown",
   "metadata": {},
   "source": [
    "<h2>Video 3</h2>"
   ]
  },
  {
   "cell_type": "code",
   "execution_count": 45,
   "metadata": {},
   "outputs": [],
   "source": [
    "cap = cv2.VideoCapture('dataset/ClassicCar/ClassicCar.mp4')\n",
    "myOFComputer.setVideoCapture(cap)"
   ]
  },
  {
   "cell_type": "code",
   "execution_count": 46,
   "metadata": {},
   "outputs": [],
   "source": [
    "myOFComputer.displaySparseOpticalFlow()"
   ]
  },
  {
   "cell_type": "markdown",
   "metadata": {},
   "source": [
    "<h2>Webcam</h2>"
   ]
  },
  {
   "cell_type": "code",
   "execution_count": 47,
   "metadata": {},
   "outputs": [],
   "source": [
    "cap = cv2.VideoCapture(0)\n",
    "myOFComputer.setVideoCapture(cap)"
   ]
  },
  {
   "cell_type": "code",
   "execution_count": 48,
   "metadata": {},
   "outputs": [],
   "source": [
    "myOFComputer.displaySparseOpticalFlow()"
   ]
  },
  {
   "cell_type": "code",
   "execution_count": 49,
   "metadata": {},
   "outputs": [],
   "source": [
    "cv2.destroyAllWindows()"
   ]
  },
  {
   "cell_type": "markdown",
   "metadata": {},
   "source": [
    "<h1>Experiment 3 - Up-Sampling Pyramid Max Level Increased</h1>"
   ]
  },
  {
   "cell_type": "markdown",
   "metadata": {},
   "source": [
    "<h2>Video 1</h2>"
   ]
  },
  {
   "cell_type": "code",
   "execution_count": 55,
   "metadata": {},
   "outputs": [],
   "source": [
    "cap = cv2.VideoCapture('dataset/BigBunnyWakesUp/BigBunnyWakesUp.mp4')\n",
    "myOFComputer.setVideoCapture(cap)\n",
    "myOFComputer.setMaxCorners(maxCorners = 100)\n",
    "myOFComputer.setMaxLevel(maxLevel = 10)"
   ]
  },
  {
   "cell_type": "code",
   "execution_count": 56,
   "metadata": {},
   "outputs": [
    {
     "data": {
      "text/plain": [
       "10"
      ]
     },
     "execution_count": 56,
     "metadata": {},
     "output_type": "execute_result"
    }
   ],
   "source": [
    "myOFComputer.getMaxLevel()"
   ]
  },
  {
   "cell_type": "code",
   "execution_count": 57,
   "metadata": {},
   "outputs": [],
   "source": [
    "myOFComputer.displaySparseOpticalFlow()"
   ]
  },
  {
   "cell_type": "markdown",
   "metadata": {},
   "source": [
    "<h2>Video 2</h2>"
   ]
  },
  {
   "cell_type": "code",
   "execution_count": 58,
   "metadata": {},
   "outputs": [],
   "source": [
    "cap = cv2.VideoCapture('dataset/JumpingKid/JumpingKid.mp4')\n",
    "myOFComputer.setVideoCapture(cap)"
   ]
  },
  {
   "cell_type": "code",
   "execution_count": 59,
   "metadata": {},
   "outputs": [],
   "source": [
    "myOFComputer.displaySparseOpticalFlow()"
   ]
  },
  {
   "cell_type": "markdown",
   "metadata": {},
   "source": [
    "<h2>Video 3</h2>"
   ]
  },
  {
   "cell_type": "code",
   "execution_count": 60,
   "metadata": {},
   "outputs": [],
   "source": [
    "cap = cv2.VideoCapture('dataset/ClassicCar/ClassicCar.mp4')\n",
    "myOFComputer.setVideoCapture(cap)"
   ]
  },
  {
   "cell_type": "code",
   "execution_count": 61,
   "metadata": {},
   "outputs": [],
   "source": [
    "myOFComputer.displaySparseOpticalFlow()"
   ]
  },
  {
   "cell_type": "markdown",
   "metadata": {},
   "source": [
    "<h2>Webcam</h2>"
   ]
  },
  {
   "cell_type": "code",
   "execution_count": 62,
   "metadata": {},
   "outputs": [],
   "source": [
    "cap = cv2.VideoCapture(0)\n",
    "myOFComputer.setVideoCapture(cap)"
   ]
  },
  {
   "cell_type": "code",
   "execution_count": 63,
   "metadata": {
    "scrolled": true
   },
   "outputs": [
    {
     "ename": "TypeError",
     "evalue": "'NoneType' object is not subscriptable",
     "output_type": "error",
     "traceback": [
      "\u001b[0;31m---------------------------------------------------------------------------\u001b[0m",
      "\u001b[0;31mTypeError\u001b[0m                                 Traceback (most recent call last)",
      "\u001b[0;32m<ipython-input-63-05676d8b3184>\u001b[0m in \u001b[0;36m<module>\u001b[0;34m\u001b[0m\n\u001b[0;32m----> 1\u001b[0;31m \u001b[0mmyOFComputer\u001b[0m\u001b[0;34m.\u001b[0m\u001b[0mdisplaySparseOpticalFlow\u001b[0m\u001b[0;34m(\u001b[0m\u001b[0;34m)\u001b[0m\u001b[0;34m\u001b[0m\u001b[0;34m\u001b[0m\u001b[0m\n\u001b[0m",
      "\u001b[0;32m<ipython-input-37-2a32f6b6e5d3>\u001b[0m in \u001b[0;36mdisplaySparseOpticalFlow\u001b[0;34m(self)\u001b[0m\n\u001b[1;32m    123\u001b[0m \u001b[0;34m\u001b[0m\u001b[0m\n\u001b[1;32m    124\u001b[0m                 \u001b[0;31m# Select good points\u001b[0m\u001b[0;34m\u001b[0m\u001b[0;34m\u001b[0m\u001b[0;34m\u001b[0m\u001b[0m\n\u001b[0;32m--> 125\u001b[0;31m                 \u001b[0mgood_new\u001b[0m \u001b[0;34m=\u001b[0m \u001b[0mnew_pts\u001b[0m\u001b[0;34m[\u001b[0m\u001b[0mstatuses\u001b[0m \u001b[0;34m==\u001b[0m \u001b[0;36m1\u001b[0m\u001b[0;34m]\u001b[0m\u001b[0;34m\u001b[0m\u001b[0;34m\u001b[0m\u001b[0m\n\u001b[0m\u001b[1;32m    126\u001b[0m                 \u001b[0mgood_old\u001b[0m \u001b[0;34m=\u001b[0m \u001b[0mold_pts\u001b[0m\u001b[0;34m[\u001b[0m\u001b[0mstatuses\u001b[0m \u001b[0;34m==\u001b[0m \u001b[0;36m1\u001b[0m\u001b[0;34m]\u001b[0m\u001b[0;34m\u001b[0m\u001b[0;34m\u001b[0m\u001b[0m\n\u001b[1;32m    127\u001b[0m \u001b[0;34m\u001b[0m\u001b[0m\n",
      "\u001b[0;31mTypeError\u001b[0m: 'NoneType' object is not subscriptable"
     ]
    }
   ],
   "source": [
    "myOFComputer.displaySparseOpticalFlow()"
   ]
  },
  {
   "cell_type": "code",
   "execution_count": 64,
   "metadata": {},
   "outputs": [],
   "source": [
    "cv2.destroyAllWindows()"
   ]
  },
  {
   "cell_type": "code",
   "execution_count": 65,
   "metadata": {},
   "outputs": [],
   "source": [
    "del myOFComputer"
   ]
  },
  {
   "cell_type": "code",
   "execution_count": 66,
   "metadata": {},
   "outputs": [],
   "source": [
    "cap.release()"
   ]
  }
 ],
 "metadata": {
  "kernelspec": {
   "display_name": "OpenCV-master-py3",
   "language": "python",
   "name": "opencv-master-py3"
  },
  "language_info": {
   "codemirror_mode": {
    "name": "ipython",
    "version": 3
   },
   "file_extension": ".py",
   "mimetype": "text/x-python",
   "name": "python",
   "nbconvert_exporter": "python",
   "pygments_lexer": "ipython3",
   "version": "3.6.9"
  }
 },
 "nbformat": 4,
 "nbformat_minor": 4
}
